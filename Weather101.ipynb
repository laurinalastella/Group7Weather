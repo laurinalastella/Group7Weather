{
 "cells": [
  {
   "cell_type": "code",
   "execution_count": null,
   "id": "93939de8",
   "metadata": {},
   "outputs": [],
   "source": [
    "# san francisco union square 37.78787705725988, -122.40793386474012"
   ]
  },
  {
   "cell_type": "code",
   "execution_count": null,
   "id": "9cc0f9c8",
   "metadata": {},
   "outputs": [],
   "source": [
    "# Union Square, SF\n",
    "# for website/api\n",
    "# 37.7879, -122.4079"
   ]
  },
  {
   "cell_type": "code",
   "execution_count": 104,
   "id": "0264c218",
   "metadata": {},
   "outputs": [],
   "source": [
    "# Initial imports\n",
    "import pandas as pd\n",
    "\n",
    "# Import datetime for date handling\n",
    "import datetime"
   ]
  },
  {
   "cell_type": "code",
   "execution_count": 54,
   "id": "01c0ed8e",
   "metadata": {
    "scrolled": true
   },
   "outputs": [
    {
     "data": {
      "text/html": [
       "<div>\n",
       "<style scoped>\n",
       "    .dataframe tbody tr th:only-of-type {\n",
       "        vertical-align: middle;\n",
       "    }\n",
       "\n",
       "    .dataframe tbody tr th {\n",
       "        vertical-align: top;\n",
       "    }\n",
       "\n",
       "    .dataframe thead th {\n",
       "        text-align: right;\n",
       "    }\n",
       "</style>\n",
       "<table border=\"1\" class=\"dataframe\">\n",
       "  <thead>\n",
       "    <tr style=\"text-align: right;\">\n",
       "      <th></th>\n",
       "      <th>time</th>\n",
       "      <th>temperature_2m_degF</th>\n",
       "      <th>relativehumidity_2m_perc</th>\n",
       "      <th>rain_inch</th>\n",
       "      <th>snowfall_cm</th>\n",
       "      <th>cloudcover_perc</th>\n",
       "      <th>windspeed_10m_mph</th>\n",
       "      <th>winddirection_10m_deg</th>\n",
       "    </tr>\n",
       "  </thead>\n",
       "  <tbody>\n",
       "    <tr>\n",
       "      <th>0</th>\n",
       "      <td>2000-01-01T00:00</td>\n",
       "      <td>40.8</td>\n",
       "      <td>95</td>\n",
       "      <td>0.0</td>\n",
       "      <td>0.0</td>\n",
       "      <td>35</td>\n",
       "      <td>4.5</td>\n",
       "      <td>147.0</td>\n",
       "    </tr>\n",
       "    <tr>\n",
       "      <th>1</th>\n",
       "      <td>2000-01-01T01:00</td>\n",
       "      <td>40.5</td>\n",
       "      <td>95</td>\n",
       "      <td>0.0</td>\n",
       "      <td>0.0</td>\n",
       "      <td>42</td>\n",
       "      <td>5.1</td>\n",
       "      <td>146.0</td>\n",
       "    </tr>\n",
       "    <tr>\n",
       "      <th>2</th>\n",
       "      <td>2000-01-01T02:00</td>\n",
       "      <td>38.4</td>\n",
       "      <td>99</td>\n",
       "      <td>0.0</td>\n",
       "      <td>0.0</td>\n",
       "      <td>46</td>\n",
       "      <td>2.2</td>\n",
       "      <td>143.0</td>\n",
       "    </tr>\n",
       "    <tr>\n",
       "      <th>3</th>\n",
       "      <td>2000-01-01T03:00</td>\n",
       "      <td>42.2</td>\n",
       "      <td>94</td>\n",
       "      <td>0.0</td>\n",
       "      <td>0.0</td>\n",
       "      <td>63</td>\n",
       "      <td>2.5</td>\n",
       "      <td>117.0</td>\n",
       "    </tr>\n",
       "    <tr>\n",
       "      <th>4</th>\n",
       "      <td>2000-01-01T04:00</td>\n",
       "      <td>41.5</td>\n",
       "      <td>93</td>\n",
       "      <td>0.0</td>\n",
       "      <td>0.0</td>\n",
       "      <td>79</td>\n",
       "      <td>2.5</td>\n",
       "      <td>80.0</td>\n",
       "    </tr>\n",
       "  </tbody>\n",
       "</table>\n",
       "</div>"
      ],
      "text/plain": [
       "               time  temperature_2m_degF  relativehumidity_2m_perc  rain_inch  \\\n",
       "0  2000-01-01T00:00                 40.8                        95        0.0   \n",
       "1  2000-01-01T01:00                 40.5                        95        0.0   \n",
       "2  2000-01-01T02:00                 38.4                        99        0.0   \n",
       "3  2000-01-01T03:00                 42.2                        94        0.0   \n",
       "4  2000-01-01T04:00                 41.5                        93        0.0   \n",
       "\n",
       "   snowfall_cm  cloudcover_perc  windspeed_10m_mph  winddirection_10m_deg  \n",
       "0          0.0               35                4.5                  147.0  \n",
       "1          0.0               42                5.1                  146.0  \n",
       "2          0.0               46                2.2                  143.0  \n",
       "3          0.0               63                2.5                  117.0  \n",
       "4          0.0               79                2.5                   80.0  "
      ]
     },
     "execution_count": 54,
     "metadata": {},
     "output_type": "execute_result"
    }
   ],
   "source": [
    "# Load the crypto_data.csv dataset.\n",
    "file_path =\"Resources/era5_hrly_2000-2020_101.csv\"\n",
    "columns = ['time',\n",
    "           'temperature_2m_degF', \n",
    "           'relativehumidity_2m_perc', \n",
    "           'rain_inch',\n",
    "           'snowfall_cm', \n",
    "           'cloudcover_perc', \n",
    "           'windspeed_10m_mph',\n",
    "           'winddirection_10m_deg']\n",
    "\n",
    "raw_hrly_df1 = pd.read_csv(file_path, skiprows=4, names=columns)\n",
    "raw_hrly_df1.head()"
   ]
  },
  {
   "cell_type": "code",
   "execution_count": 55,
   "id": "bf1fad8f",
   "metadata": {},
   "outputs": [
    {
     "data": {
      "text/plain": [
       "time                         object\n",
       "temperature_2m_degF         float64\n",
       "relativehumidity_2m_perc      int64\n",
       "rain_inch                   float64\n",
       "snowfall_cm                 float64\n",
       "cloudcover_perc               int64\n",
       "windspeed_10m_mph           float64\n",
       "winddirection_10m_deg       float64\n",
       "dtype: object"
      ]
     },
     "execution_count": 55,
     "metadata": {},
     "output_type": "execute_result"
    }
   ],
   "source": [
    "raw_hrly_df1.dtypes"
   ]
  },
  {
   "cell_type": "code",
   "execution_count": 56,
   "id": "d9429f03",
   "metadata": {},
   "outputs": [
    {
     "data": {
      "text/plain": [
       "Index(['time', 'temperature_2m_degF', 'relativehumidity_2m_perc', 'rain_inch',\n",
       "       'snowfall_cm', 'cloudcover_perc', 'windspeed_10m_mph',\n",
       "       'winddirection_10m_deg'],\n",
       "      dtype='object')"
      ]
     },
     "execution_count": 56,
     "metadata": {},
     "output_type": "execute_result"
    }
   ],
   "source": [
    "raw_hrly_df1.columns"
   ]
  },
  {
   "cell_type": "code",
   "execution_count": 57,
   "id": "264bc4a6",
   "metadata": {
    "scrolled": true
   },
   "outputs": [
    {
     "name": "stdout",
     "output_type": "stream",
     "text": [
      "<class 'pandas.core.frame.DataFrame'>\n",
      "RangeIndex: 184104 entries, 0 to 184103\n",
      "Data columns (total 8 columns):\n",
      " #   Column                    Non-Null Count   Dtype  \n",
      "---  ------                    --------------   -----  \n",
      " 0   time                      184104 non-null  object \n",
      " 1   temperature_2m_degF       184104 non-null  float64\n",
      " 2   relativehumidity_2m_perc  184104 non-null  int64  \n",
      " 3   rain_inch                 184104 non-null  float64\n",
      " 4   snowfall_cm               184104 non-null  float64\n",
      " 5   cloudcover_perc           184104 non-null  int64  \n",
      " 6   windspeed_10m_mph         184104 non-null  float64\n",
      " 7   winddirection_10m_deg     184030 non-null  float64\n",
      "dtypes: float64(5), int64(2), object(1)\n",
      "memory usage: 11.2+ MB\n"
     ]
    }
   ],
   "source": [
    "raw_hrly_df1.info()"
   ]
  },
  {
   "cell_type": "code",
   "execution_count": 58,
   "id": "eb69648c",
   "metadata": {},
   "outputs": [
    {
     "data": {
      "text/plain": [
       "0.0"
      ]
     },
     "execution_count": 58,
     "metadata": {},
     "output_type": "execute_result"
    }
   ],
   "source": [
    "raw_hrly_df1 [raw_hrly_df1[\"winddirection_10m_deg\"].isna()][\"windspeed_10m_mph\"].sum()"
   ]
  },
  {
   "cell_type": "code",
   "execution_count": 59,
   "id": "181b941a",
   "metadata": {},
   "outputs": [
    {
     "data": {
      "text/plain": [
       "count    184030.000000\n",
       "mean        214.946759\n",
       "std          77.429164\n",
       "min           1.000000\n",
       "25%         180.000000\n",
       "50%         211.000000\n",
       "75%         250.000000\n",
       "max         360.000000\n",
       "Name: winddirection_10m_deg, dtype: float64"
      ]
     },
     "execution_count": 59,
     "metadata": {},
     "output_type": "execute_result"
    }
   ],
   "source": [
    "raw_hrly_df1[\"winddirection_10m_deg\"].describe()"
   ]
  },
  {
   "cell_type": "code",
   "execution_count": 66,
   "id": "bbf75389",
   "metadata": {},
   "outputs": [],
   "source": [
    "raw_hrly_df1[\"winddirection_10m_deg\"].fillna(0, inplace=True)"
   ]
  },
  {
   "cell_type": "code",
   "execution_count": 69,
   "id": "4a84c439",
   "metadata": {
    "scrolled": false
   },
   "outputs": [
    {
     "data": {
      "text/html": [
       "<div>\n",
       "<style scoped>\n",
       "    .dataframe tbody tr th:only-of-type {\n",
       "        vertical-align: middle;\n",
       "    }\n",
       "\n",
       "    .dataframe tbody tr th {\n",
       "        vertical-align: top;\n",
       "    }\n",
       "\n",
       "    .dataframe thead th {\n",
       "        text-align: right;\n",
       "    }\n",
       "</style>\n",
       "<table border=\"1\" class=\"dataframe\">\n",
       "  <thead>\n",
       "    <tr style=\"text-align: right;\">\n",
       "      <th></th>\n",
       "      <th>temperature_2m_degF</th>\n",
       "      <th>relativehumidity_2m_perc</th>\n",
       "      <th>rain_inch</th>\n",
       "      <th>snowfall_cm</th>\n",
       "      <th>cloudcover_perc</th>\n",
       "      <th>windspeed_10m_mph</th>\n",
       "      <th>winddirection_10m_deg</th>\n",
       "    </tr>\n",
       "  </thead>\n",
       "  <tbody>\n",
       "    <tr>\n",
       "      <th>count</th>\n",
       "      <td>184104.000000</td>\n",
       "      <td>184104.000000</td>\n",
       "      <td>184104.000000</td>\n",
       "      <td>184104.000000</td>\n",
       "      <td>184104.000000</td>\n",
       "      <td>184104.000000</td>\n",
       "      <td>184104.000000</td>\n",
       "    </tr>\n",
       "    <tr>\n",
       "      <th>mean</th>\n",
       "      <td>62.685529</td>\n",
       "      <td>60.031107</td>\n",
       "      <td>0.002539</td>\n",
       "      <td>0.000006</td>\n",
       "      <td>24.462673</td>\n",
       "      <td>5.317476</td>\n",
       "      <td>214.860362</td>\n",
       "    </tr>\n",
       "    <tr>\n",
       "      <th>std</th>\n",
       "      <td>13.893239</td>\n",
       "      <td>22.489070</td>\n",
       "      <td>0.013077</td>\n",
       "      <td>0.000937</td>\n",
       "      <td>32.715640</td>\n",
       "      <td>3.088230</td>\n",
       "      <td>77.533407</td>\n",
       "    </tr>\n",
       "    <tr>\n",
       "      <th>min</th>\n",
       "      <td>24.200000</td>\n",
       "      <td>2.000000</td>\n",
       "      <td>0.000000</td>\n",
       "      <td>0.000000</td>\n",
       "      <td>0.000000</td>\n",
       "      <td>0.000000</td>\n",
       "      <td>0.000000</td>\n",
       "    </tr>\n",
       "    <tr>\n",
       "      <th>25%</th>\n",
       "      <td>52.700000</td>\n",
       "      <td>42.000000</td>\n",
       "      <td>0.000000</td>\n",
       "      <td>0.000000</td>\n",
       "      <td>0.000000</td>\n",
       "      <td>3.100000</td>\n",
       "      <td>180.000000</td>\n",
       "    </tr>\n",
       "    <tr>\n",
       "      <th>50%</th>\n",
       "      <td>60.900000</td>\n",
       "      <td>62.000000</td>\n",
       "      <td>0.000000</td>\n",
       "      <td>0.000000</td>\n",
       "      <td>6.000000</td>\n",
       "      <td>4.800000</td>\n",
       "      <td>211.000000</td>\n",
       "    </tr>\n",
       "    <tr>\n",
       "      <th>75%</th>\n",
       "      <td>71.400000</td>\n",
       "      <td>80.000000</td>\n",
       "      <td>0.000000</td>\n",
       "      <td>0.000000</td>\n",
       "      <td>36.000000</td>\n",
       "      <td>7.000000</td>\n",
       "      <td>250.000000</td>\n",
       "    </tr>\n",
       "    <tr>\n",
       "      <th>max</th>\n",
       "      <td>110.600000</td>\n",
       "      <td>100.000000</td>\n",
       "      <td>0.437000</td>\n",
       "      <td>0.210000</td>\n",
       "      <td>100.000000</td>\n",
       "      <td>31.100000</td>\n",
       "      <td>360.000000</td>\n",
       "    </tr>\n",
       "  </tbody>\n",
       "</table>\n",
       "</div>"
      ],
      "text/plain": [
       "       temperature_2m_degF  relativehumidity_2m_perc      rain_inch  \\\n",
       "count        184104.000000             184104.000000  184104.000000   \n",
       "mean             62.685529                 60.031107       0.002539   \n",
       "std              13.893239                 22.489070       0.013077   \n",
       "min              24.200000                  2.000000       0.000000   \n",
       "25%              52.700000                 42.000000       0.000000   \n",
       "50%              60.900000                 62.000000       0.000000   \n",
       "75%              71.400000                 80.000000       0.000000   \n",
       "max             110.600000                100.000000       0.437000   \n",
       "\n",
       "         snowfall_cm  cloudcover_perc  windspeed_10m_mph  \\\n",
       "count  184104.000000    184104.000000      184104.000000   \n",
       "mean        0.000006        24.462673           5.317476   \n",
       "std         0.000937        32.715640           3.088230   \n",
       "min         0.000000         0.000000           0.000000   \n",
       "25%         0.000000         0.000000           3.100000   \n",
       "50%         0.000000         6.000000           4.800000   \n",
       "75%         0.000000        36.000000           7.000000   \n",
       "max         0.210000       100.000000          31.100000   \n",
       "\n",
       "       winddirection_10m_deg  \n",
       "count          184104.000000  \n",
       "mean              214.860362  \n",
       "std                77.533407  \n",
       "min                 0.000000  \n",
       "25%               180.000000  \n",
       "50%               211.000000  \n",
       "75%               250.000000  \n",
       "max               360.000000  "
      ]
     },
     "execution_count": 69,
     "metadata": {},
     "output_type": "execute_result"
    }
   ],
   "source": [
    "raw_hrly_df1.describe()"
   ]
  },
  {
   "cell_type": "code",
   "execution_count": 68,
   "id": "7387f3ec",
   "metadata": {},
   "outputs": [
    {
     "name": "stdout",
     "output_type": "stream",
     "text": [
      "<class 'pandas.core.frame.DataFrame'>\n",
      "RangeIndex: 184104 entries, 0 to 184103\n",
      "Data columns (total 8 columns):\n",
      " #   Column                    Non-Null Count   Dtype  \n",
      "---  ------                    --------------   -----  \n",
      " 0   time                      184104 non-null  object \n",
      " 1   temperature_2m_degF       184104 non-null  float64\n",
      " 2   relativehumidity_2m_perc  184104 non-null  int64  \n",
      " 3   rain_inch                 184104 non-null  float64\n",
      " 4   snowfall_cm               184104 non-null  float64\n",
      " 5   cloudcover_perc           184104 non-null  int64  \n",
      " 6   windspeed_10m_mph         184104 non-null  float64\n",
      " 7   winddirection_10m_deg     184104 non-null  float64\n",
      "dtypes: float64(5), int64(2), object(1)\n",
      "memory usage: 11.2+ MB\n"
     ]
    }
   ],
   "source": [
    "raw_hrly_df1.info()"
   ]
  },
  {
   "cell_type": "code",
   "execution_count": 70,
   "id": "0617c55c",
   "metadata": {},
   "outputs": [
    {
     "data": {
      "text/plain": [
       "0         2000-01-01T00:00\n",
       "1         2000-01-01T01:00\n",
       "2         2000-01-01T02:00\n",
       "3         2000-01-01T03:00\n",
       "4         2000-01-01T04:00\n",
       "                ...       \n",
       "184099    2020-12-31T19:00\n",
       "184100    2020-12-31T20:00\n",
       "184101    2020-12-31T21:00\n",
       "184102    2020-12-31T22:00\n",
       "184103    2020-12-31T23:00\n",
       "Name: time, Length: 184104, dtype: object"
      ]
     },
     "execution_count": 70,
     "metadata": {},
     "output_type": "execute_result"
    }
   ],
   "source": [
    "raw_hrly_df1[\"time\"]"
   ]
  },
  {
   "cell_type": "code",
   "execution_count": 79,
   "id": "46b19c09",
   "metadata": {},
   "outputs": [],
   "source": [
    "date_convert = [('month', 5, 7), ('day', 8, 10), ('hour', 11, 13), ]\n",
    "\n",
    "for code in date_convert:\n",
    "    raw_hrly_df1[code[0]] = pd.to_numeric(raw_hrly_df1['time'].map(lambda x: x[code[1]:code[2]]))\n",
    "    "
   ]
  },
  {
   "cell_type": "code",
   "execution_count": 105,
   "id": "1e51e4e4",
   "metadata": {},
   "outputs": [],
   "source": [
    "raw_hrly_df1[\"time_new\"] = raw_hrly_df1['time'].map(lambda x: datetime.datetime.fromisoformat(x))"
   ]
  },
  {
   "cell_type": "code",
   "execution_count": 106,
   "id": "5d709ce3",
   "metadata": {},
   "outputs": [
    {
     "name": "stdout",
     "output_type": "stream",
     "text": [
      "<class 'pandas.core.frame.DataFrame'>\n",
      "RangeIndex: 184104 entries, 0 to 184103\n",
      "Data columns (total 12 columns):\n",
      " #   Column                    Non-Null Count   Dtype         \n",
      "---  ------                    --------------   -----         \n",
      " 0   time                      184104 non-null  object        \n",
      " 1   temperature_2m_degF       184104 non-null  float64       \n",
      " 2   relativehumidity_2m_perc  184104 non-null  int64         \n",
      " 3   rain_inch                 184104 non-null  float64       \n",
      " 4   snowfall_cm               184104 non-null  float64       \n",
      " 5   cloudcover_perc           184104 non-null  int64         \n",
      " 6   windspeed_10m_mph         184104 non-null  float64       \n",
      " 7   winddirection_10m_deg     184104 non-null  float64       \n",
      " 8   month                     184104 non-null  int64         \n",
      " 9   day                       184104 non-null  int64         \n",
      " 10  hour                      184104 non-null  int64         \n",
      " 11  time_new                  184104 non-null  datetime64[ns]\n",
      "dtypes: datetime64[ns](1), float64(5), int64(5), object(1)\n",
      "memory usage: 16.9+ MB\n"
     ]
    }
   ],
   "source": [
    "raw_hrly_df1.info()"
   ]
  },
  {
   "cell_type": "code",
   "execution_count": 107,
   "id": "d2dfffe6",
   "metadata": {},
   "outputs": [
    {
     "data": {
      "text/html": [
       "<div>\n",
       "<style scoped>\n",
       "    .dataframe tbody tr th:only-of-type {\n",
       "        vertical-align: middle;\n",
       "    }\n",
       "\n",
       "    .dataframe tbody tr th {\n",
       "        vertical-align: top;\n",
       "    }\n",
       "\n",
       "    .dataframe thead th {\n",
       "        text-align: right;\n",
       "    }\n",
       "</style>\n",
       "<table border=\"1\" class=\"dataframe\">\n",
       "  <thead>\n",
       "    <tr style=\"text-align: right;\">\n",
       "      <th></th>\n",
       "      <th>time</th>\n",
       "      <th>temperature_2m_degF</th>\n",
       "      <th>relativehumidity_2m_perc</th>\n",
       "      <th>rain_inch</th>\n",
       "      <th>snowfall_cm</th>\n",
       "      <th>cloudcover_perc</th>\n",
       "      <th>windspeed_10m_mph</th>\n",
       "      <th>winddirection_10m_deg</th>\n",
       "      <th>month</th>\n",
       "      <th>day</th>\n",
       "      <th>hour</th>\n",
       "      <th>time_new</th>\n",
       "    </tr>\n",
       "  </thead>\n",
       "  <tbody>\n",
       "    <tr>\n",
       "      <th>0</th>\n",
       "      <td>2000-01-01T00:00</td>\n",
       "      <td>40.8</td>\n",
       "      <td>95</td>\n",
       "      <td>0.0</td>\n",
       "      <td>0.0</td>\n",
       "      <td>35</td>\n",
       "      <td>4.5</td>\n",
       "      <td>147.0</td>\n",
       "      <td>1</td>\n",
       "      <td>1</td>\n",
       "      <td>0</td>\n",
       "      <td>2000-01-01 00:00:00</td>\n",
       "    </tr>\n",
       "    <tr>\n",
       "      <th>1</th>\n",
       "      <td>2000-01-01T01:00</td>\n",
       "      <td>40.5</td>\n",
       "      <td>95</td>\n",
       "      <td>0.0</td>\n",
       "      <td>0.0</td>\n",
       "      <td>42</td>\n",
       "      <td>5.1</td>\n",
       "      <td>146.0</td>\n",
       "      <td>1</td>\n",
       "      <td>1</td>\n",
       "      <td>1</td>\n",
       "      <td>2000-01-01 01:00:00</td>\n",
       "    </tr>\n",
       "    <tr>\n",
       "      <th>2</th>\n",
       "      <td>2000-01-01T02:00</td>\n",
       "      <td>38.4</td>\n",
       "      <td>99</td>\n",
       "      <td>0.0</td>\n",
       "      <td>0.0</td>\n",
       "      <td>46</td>\n",
       "      <td>2.2</td>\n",
       "      <td>143.0</td>\n",
       "      <td>1</td>\n",
       "      <td>1</td>\n",
       "      <td>2</td>\n",
       "      <td>2000-01-01 02:00:00</td>\n",
       "    </tr>\n",
       "    <tr>\n",
       "      <th>3</th>\n",
       "      <td>2000-01-01T03:00</td>\n",
       "      <td>42.2</td>\n",
       "      <td>94</td>\n",
       "      <td>0.0</td>\n",
       "      <td>0.0</td>\n",
       "      <td>63</td>\n",
       "      <td>2.5</td>\n",
       "      <td>117.0</td>\n",
       "      <td>1</td>\n",
       "      <td>1</td>\n",
       "      <td>3</td>\n",
       "      <td>2000-01-01 03:00:00</td>\n",
       "    </tr>\n",
       "    <tr>\n",
       "      <th>4</th>\n",
       "      <td>2000-01-01T04:00</td>\n",
       "      <td>41.5</td>\n",
       "      <td>93</td>\n",
       "      <td>0.0</td>\n",
       "      <td>0.0</td>\n",
       "      <td>79</td>\n",
       "      <td>2.5</td>\n",
       "      <td>80.0</td>\n",
       "      <td>1</td>\n",
       "      <td>1</td>\n",
       "      <td>4</td>\n",
       "      <td>2000-01-01 04:00:00</td>\n",
       "    </tr>\n",
       "  </tbody>\n",
       "</table>\n",
       "</div>"
      ],
      "text/plain": [
       "               time  temperature_2m_degF  relativehumidity_2m_perc  rain_inch  \\\n",
       "0  2000-01-01T00:00                 40.8                        95        0.0   \n",
       "1  2000-01-01T01:00                 40.5                        95        0.0   \n",
       "2  2000-01-01T02:00                 38.4                        99        0.0   \n",
       "3  2000-01-01T03:00                 42.2                        94        0.0   \n",
       "4  2000-01-01T04:00                 41.5                        93        0.0   \n",
       "\n",
       "   snowfall_cm  cloudcover_perc  windspeed_10m_mph  winddirection_10m_deg  \\\n",
       "0          0.0               35                4.5                  147.0   \n",
       "1          0.0               42                5.1                  146.0   \n",
       "2          0.0               46                2.2                  143.0   \n",
       "3          0.0               63                2.5                  117.0   \n",
       "4          0.0               79                2.5                   80.0   \n",
       "\n",
       "   month  day  hour            time_new  \n",
       "0      1    1     0 2000-01-01 00:00:00  \n",
       "1      1    1     1 2000-01-01 01:00:00  \n",
       "2      1    1     2 2000-01-01 02:00:00  \n",
       "3      1    1     3 2000-01-01 03:00:00  \n",
       "4      1    1     4 2000-01-01 04:00:00  "
      ]
     },
     "execution_count": 107,
     "metadata": {},
     "output_type": "execute_result"
    }
   ],
   "source": [
    "raw_hrly_df1.head()"
   ]
  },
  {
   "cell_type": "code",
   "execution_count": 108,
   "id": "20d61ff3",
   "metadata": {},
   "outputs": [],
   "source": [
    "def day_of_year(x):\n",
    "    return (x - datetime.datetime(x.year, 1, 1)).days + 1"
   ]
  },
  {
   "cell_type": "code",
   "execution_count": 109,
   "id": "a9e3f601",
   "metadata": {},
   "outputs": [],
   "source": [
    "raw_hrly_df1[\"day_of_year\"] = raw_hrly_df1['time_new'].map(lambda x: day_of_year(x))"
   ]
  },
  {
   "cell_type": "code",
   "execution_count": 111,
   "id": "1b412f27",
   "metadata": {},
   "outputs": [],
   "source": [
    "raw_hrly_df1[\"hour_of_day\"] = raw_hrly_df1['time_new'].map(lambda x: (x.hour))"
   ]
  },
  {
   "cell_type": "code",
   "execution_count": null,
   "id": "f5a9af3b",
   "metadata": {},
   "outputs": [],
   "source": []
  },
  {
   "cell_type": "code",
   "execution_count": null,
   "id": "15e03b40",
   "metadata": {},
   "outputs": [],
   "source": []
  },
  {
   "cell_type": "code",
   "execution_count": 112,
   "id": "f1cfcb7a",
   "metadata": {},
   "outputs": [
    {
     "data": {
      "text/html": [
       "<div>\n",
       "<style scoped>\n",
       "    .dataframe tbody tr th:only-of-type {\n",
       "        vertical-align: middle;\n",
       "    }\n",
       "\n",
       "    .dataframe tbody tr th {\n",
       "        vertical-align: top;\n",
       "    }\n",
       "\n",
       "    .dataframe thead th {\n",
       "        text-align: right;\n",
       "    }\n",
       "</style>\n",
       "<table border=\"1\" class=\"dataframe\">\n",
       "  <thead>\n",
       "    <tr style=\"text-align: right;\">\n",
       "      <th></th>\n",
       "      <th>temperature_2m_degF</th>\n",
       "      <th>relativehumidity_2m_perc</th>\n",
       "      <th>rain_inch</th>\n",
       "      <th>snowfall_cm</th>\n",
       "      <th>cloudcover_perc</th>\n",
       "      <th>windspeed_10m_mph</th>\n",
       "      <th>winddirection_10m_deg</th>\n",
       "      <th>month</th>\n",
       "      <th>day</th>\n",
       "      <th>hour</th>\n",
       "      <th>day_of_year</th>\n",
       "      <th>hour_of_day</th>\n",
       "    </tr>\n",
       "  </thead>\n",
       "  <tbody>\n",
       "    <tr>\n",
       "      <th>count</th>\n",
       "      <td>184104.000000</td>\n",
       "      <td>184104.000000</td>\n",
       "      <td>184104.000000</td>\n",
       "      <td>184104.000000</td>\n",
       "      <td>184104.000000</td>\n",
       "      <td>184104.000000</td>\n",
       "      <td>184104.000000</td>\n",
       "      <td>184104.000000</td>\n",
       "      <td>184104.000000</td>\n",
       "      <td>184104.000000</td>\n",
       "      <td>184104.000000</td>\n",
       "      <td>184104.000000</td>\n",
       "    </tr>\n",
       "    <tr>\n",
       "      <th>mean</th>\n",
       "      <td>62.685529</td>\n",
       "      <td>60.031107</td>\n",
       "      <td>0.002539</td>\n",
       "      <td>0.000006</td>\n",
       "      <td>24.462673</td>\n",
       "      <td>5.317476</td>\n",
       "      <td>214.860362</td>\n",
       "      <td>6.522487</td>\n",
       "      <td>15.730935</td>\n",
       "      <td>11.500000</td>\n",
       "      <td>183.143136</td>\n",
       "      <td>11.500000</td>\n",
       "    </tr>\n",
       "    <tr>\n",
       "      <th>std</th>\n",
       "      <td>13.893239</td>\n",
       "      <td>22.489070</td>\n",
       "      <td>0.013077</td>\n",
       "      <td>0.000937</td>\n",
       "      <td>32.715640</td>\n",
       "      <td>3.088230</td>\n",
       "      <td>77.533407</td>\n",
       "      <td>3.448834</td>\n",
       "      <td>8.800664</td>\n",
       "      <td>6.922205</td>\n",
       "      <td>105.449278</td>\n",
       "      <td>6.922205</td>\n",
       "    </tr>\n",
       "    <tr>\n",
       "      <th>min</th>\n",
       "      <td>24.200000</td>\n",
       "      <td>2.000000</td>\n",
       "      <td>0.000000</td>\n",
       "      <td>0.000000</td>\n",
       "      <td>0.000000</td>\n",
       "      <td>0.000000</td>\n",
       "      <td>0.000000</td>\n",
       "      <td>1.000000</td>\n",
       "      <td>1.000000</td>\n",
       "      <td>0.000000</td>\n",
       "      <td>1.000000</td>\n",
       "      <td>0.000000</td>\n",
       "    </tr>\n",
       "    <tr>\n",
       "      <th>25%</th>\n",
       "      <td>52.700000</td>\n",
       "      <td>42.000000</td>\n",
       "      <td>0.000000</td>\n",
       "      <td>0.000000</td>\n",
       "      <td>0.000000</td>\n",
       "      <td>3.100000</td>\n",
       "      <td>180.000000</td>\n",
       "      <td>4.000000</td>\n",
       "      <td>8.000000</td>\n",
       "      <td>5.750000</td>\n",
       "      <td>92.000000</td>\n",
       "      <td>5.750000</td>\n",
       "    </tr>\n",
       "    <tr>\n",
       "      <th>50%</th>\n",
       "      <td>60.900000</td>\n",
       "      <td>62.000000</td>\n",
       "      <td>0.000000</td>\n",
       "      <td>0.000000</td>\n",
       "      <td>6.000000</td>\n",
       "      <td>4.800000</td>\n",
       "      <td>211.000000</td>\n",
       "      <td>7.000000</td>\n",
       "      <td>16.000000</td>\n",
       "      <td>11.500000</td>\n",
       "      <td>183.000000</td>\n",
       "      <td>11.500000</td>\n",
       "    </tr>\n",
       "    <tr>\n",
       "      <th>75%</th>\n",
       "      <td>71.400000</td>\n",
       "      <td>80.000000</td>\n",
       "      <td>0.000000</td>\n",
       "      <td>0.000000</td>\n",
       "      <td>36.000000</td>\n",
       "      <td>7.000000</td>\n",
       "      <td>250.000000</td>\n",
       "      <td>10.000000</td>\n",
       "      <td>23.000000</td>\n",
       "      <td>17.250000</td>\n",
       "      <td>274.000000</td>\n",
       "      <td>17.250000</td>\n",
       "    </tr>\n",
       "    <tr>\n",
       "      <th>max</th>\n",
       "      <td>110.600000</td>\n",
       "      <td>100.000000</td>\n",
       "      <td>0.437000</td>\n",
       "      <td>0.210000</td>\n",
       "      <td>100.000000</td>\n",
       "      <td>31.100000</td>\n",
       "      <td>360.000000</td>\n",
       "      <td>12.000000</td>\n",
       "      <td>31.000000</td>\n",
       "      <td>23.000000</td>\n",
       "      <td>366.000000</td>\n",
       "      <td>23.000000</td>\n",
       "    </tr>\n",
       "  </tbody>\n",
       "</table>\n",
       "</div>"
      ],
      "text/plain": [
       "       temperature_2m_degF  relativehumidity_2m_perc      rain_inch  \\\n",
       "count        184104.000000             184104.000000  184104.000000   \n",
       "mean             62.685529                 60.031107       0.002539   \n",
       "std              13.893239                 22.489070       0.013077   \n",
       "min              24.200000                  2.000000       0.000000   \n",
       "25%              52.700000                 42.000000       0.000000   \n",
       "50%              60.900000                 62.000000       0.000000   \n",
       "75%              71.400000                 80.000000       0.000000   \n",
       "max             110.600000                100.000000       0.437000   \n",
       "\n",
       "         snowfall_cm  cloudcover_perc  windspeed_10m_mph  \\\n",
       "count  184104.000000    184104.000000      184104.000000   \n",
       "mean        0.000006        24.462673           5.317476   \n",
       "std         0.000937        32.715640           3.088230   \n",
       "min         0.000000         0.000000           0.000000   \n",
       "25%         0.000000         0.000000           3.100000   \n",
       "50%         0.000000         6.000000           4.800000   \n",
       "75%         0.000000        36.000000           7.000000   \n",
       "max         0.210000       100.000000          31.100000   \n",
       "\n",
       "       winddirection_10m_deg          month            day           hour  \\\n",
       "count          184104.000000  184104.000000  184104.000000  184104.000000   \n",
       "mean              214.860362       6.522487      15.730935      11.500000   \n",
       "std                77.533407       3.448834       8.800664       6.922205   \n",
       "min                 0.000000       1.000000       1.000000       0.000000   \n",
       "25%               180.000000       4.000000       8.000000       5.750000   \n",
       "50%               211.000000       7.000000      16.000000      11.500000   \n",
       "75%               250.000000      10.000000      23.000000      17.250000   \n",
       "max               360.000000      12.000000      31.000000      23.000000   \n",
       "\n",
       "         day_of_year    hour_of_day  \n",
       "count  184104.000000  184104.000000  \n",
       "mean      183.143136      11.500000  \n",
       "std       105.449278       6.922205  \n",
       "min         1.000000       0.000000  \n",
       "25%        92.000000       5.750000  \n",
       "50%       183.000000      11.500000  \n",
       "75%       274.000000      17.250000  \n",
       "max       366.000000      23.000000  "
      ]
     },
     "execution_count": 112,
     "metadata": {},
     "output_type": "execute_result"
    }
   ],
   "source": [
    "raw_hrly_df1.describe()"
   ]
  },
  {
   "cell_type": "code",
   "execution_count": 103,
   "id": "5e9c441f",
   "metadata": {},
   "outputs": [
    {
     "data": {
      "text/plain": [
       "60"
      ]
     },
     "execution_count": 103,
     "metadata": {},
     "output_type": "execute_result"
    }
   ],
   "source": [
    "day_of_year"
   ]
  },
  {
   "cell_type": "code",
   "execution_count": 81,
   "id": "2f5e4c10",
   "metadata": {},
   "outputs": [
    {
     "name": "stdout",
     "output_type": "stream",
     "text": [
      "<class 'pandas.core.frame.DataFrame'>\n",
      "RangeIndex: 184104 entries, 0 to 184103\n",
      "Data columns (total 11 columns):\n",
      " #   Column                    Non-Null Count   Dtype  \n",
      "---  ------                    --------------   -----  \n",
      " 0   time                      184104 non-null  object \n",
      " 1   temperature_2m_degF       184104 non-null  float64\n",
      " 2   relativehumidity_2m_perc  184104 non-null  int64  \n",
      " 3   rain_inch                 184104 non-null  float64\n",
      " 4   snowfall_cm               184104 non-null  float64\n",
      " 5   cloudcover_perc           184104 non-null  int64  \n",
      " 6   windspeed_10m_mph         184104 non-null  float64\n",
      " 7   winddirection_10m_deg     184104 non-null  float64\n",
      " 8   month                     184104 non-null  int64  \n",
      " 9   day                       184104 non-null  int64  \n",
      " 10  hour                      184104 non-null  int64  \n",
      "dtypes: float64(5), int64(5), object(1)\n",
      "memory usage: 15.5+ MB\n"
     ]
    }
   ],
   "source": [
    "raw_hrly_df1.info()"
   ]
  },
  {
   "cell_type": "code",
   "execution_count": 101,
   "id": "101f422f",
   "metadata": {},
   "outputs": [
    {
     "data": {
      "text/plain": [
       "2454526.2916666665"
      ]
     },
     "execution_count": 101,
     "metadata": {},
     "output_type": "execute_result"
    }
   ],
   "source": [
    "\n",
    "# bob = \"2008-02-29T19:00\"\n",
    "# joe = datetime.datetime.fromisoformat(bob)\n"
   ]
  },
  {
   "cell_type": "code",
   "execution_count": null,
   "id": "6d6bf72d",
   "metadata": {},
   "outputs": [],
   "source": []
  },
  {
   "cell_type": "code",
   "execution_count": null,
   "id": "cf5e3a30",
   "metadata": {},
   "outputs": [],
   "source": []
  }
 ],
 "metadata": {
  "kernelspec": {
   "display_name": "mlenv",
   "language": "python",
   "name": "mlenv"
  },
  "language_info": {
   "codemirror_mode": {
    "name": "ipython",
    "version": 3
   },
   "file_extension": ".py",
   "mimetype": "text/x-python",
   "name": "python",
   "nbconvert_exporter": "python",
   "pygments_lexer": "ipython3",
   "version": "3.7.13"
  }
 },
 "nbformat": 4,
 "nbformat_minor": 5
}
